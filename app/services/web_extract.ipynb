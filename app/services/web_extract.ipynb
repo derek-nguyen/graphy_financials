{
 "cells": [
  {
   "cell_type": "code",
   "execution_count": null,
   "metadata": {},
   "outputs": [],
   "source": [
    "from scraper_utility import get_zip_href, zip_extract_download"
   ]
  },
  {
   "cell_type": "code",
   "execution_count": null,
   "metadata": {},
   "outputs": [],
   "source": [
    "\"\"\"\n",
    "Extract data from SEC CF Data Set\n",
    "\"\"\"\n",
    "\n",
    "# data = get_zip_links(\"https://www.sec.gov/dera/data/crowdfunding-offerings-data-sets\")\n",
    "\n",
    "\n",
    "zip_list = get_zip_href(\n",
    "    \"https://www.sec.gov/dera/data/crowdfunding-offerings-data-sets\"\n",
    ") \n",
    "\n",
    "for zip_link in zip_list:\n",
    "    cf_sec_url = \"https://www.sec.gov/\"\n",
    "    zip_url = cf_sec_url + zip_link\n",
    "\n",
    "    data_folder_path = \"/Users/derek/Documents/Github_Repos/graphy_financials/data\"\n",
    "    \n",
    "    try: \n",
    "        zip_extract_download(zip_url, data_folder_path)\n",
    "    except:\n",
    "        print('Error downloading file')"
   ]
  },
  {
   "cell_type": "code",
   "execution_count": null,
   "metadata": {},
   "outputs": [],
   "source": []
  }
 ],
 "metadata": {
  "kernelspec": {
   "display_name": "env",
   "language": "python",
   "name": "python3"
  },
  "language_info": {
   "codemirror_mode": {
    "name": "ipython",
    "version": 3
   },
   "file_extension": ".py",
   "mimetype": "text/x-python",
   "name": "python",
   "nbconvert_exporter": "python",
   "pygments_lexer": "ipython3",
   "version": "3.9.13"
  },
  "orig_nbformat": 4
 },
 "nbformat": 4,
 "nbformat_minor": 2
}
