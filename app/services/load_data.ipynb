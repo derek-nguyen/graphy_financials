{
 "cells": [
  {
   "cell_type": "markdown",
   "id": "3fa1a242",
   "metadata": {},
   "source": [
    "# Create table for companies"
   ]
  },
  {
   "cell_type": "code",
   "execution_count": null,
   "id": "70e7200b",
   "metadata": {},
   "outputs": [],
   "source": [
    "import sqlalchemy\n",
    "import pandas as pd\n",
    "from sqlalchemy import create_engine\n",
    "\n",
    "\n",
    "conn_str = \"postgresql://localhost:5432/graphyfinancials\"\n",
    "engine = create_engine(conn_str)\n",
    "connection = engine.connect()\n",
    "\n",
    "query = \"\"\"\n",
    "with companies as (\n",
    "    select *, row_number() over (partition by company order by cik desc) as row_num\n",
    "    from dim.companies c \n",
    ")\n",
    "select \n",
    "company \n",
    ", max(legal_status_form) as legal_status_form \n",
    ", max(date_incorporation) as date_incorporation\n",
    ", max(street1) as street1 \n",
    ", max(street2) as street2 \n",
    ", max(city) as city \n",
    ", max(state_or_country) as state_or_country \n",
    ", max(issuer_website) as issuer_website \n",
    ", max(cik) as cik\n",
    "from companies\n",
    "where 1=1\n",
    "and row_num = 1\n",
    "group by 1\n",
    "\"\"\"\n",
    "\n",
    "result = connection.execute(query)\n",
    "\n",
    "df = pd.read_sql(query, engine)\n",
    "unique_company_name = pd.DataFrame(df['company'].drop_duplicates())\n",
    "\n",
    "merged_df = pd.merge(unique_company_name,df,on='company')\n",
    "merged_df"
   ]
  },
  {
   "cell_type": "code",
   "execution_count": null,
   "id": "54c0afdf",
   "metadata": {},
   "outputs": [],
   "source": []
  }
 ],
 "metadata": {
  "kernelspec": {
   "display_name": "Python 3 (ipykernel)",
   "language": "python",
   "name": "python3"
  },
  "language_info": {
   "codemirror_mode": {
    "name": "ipython",
    "version": 3
   },
   "file_extension": ".py",
   "mimetype": "text/x-python",
   "name": "python",
   "nbconvert_exporter": "python",
   "pygments_lexer": "ipython3",
   "version": "3.9.13"
  }
 },
 "nbformat": 4,
 "nbformat_minor": 5
}
