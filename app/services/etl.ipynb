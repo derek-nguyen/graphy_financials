{
 "cells": [
  {
   "cell_type": "code",
   "execution_count": 1,
   "metadata": {},
   "outputs": [],
   "source": [
    "import os"
   ]
  },
  {
   "cell_type": "code",
   "execution_count": 5,
   "metadata": {},
   "outputs": [
    {
     "name": "stdout",
     "output_type": "stream",
     "text": [
      "/Users/derek/Documents/Github_Repos/graphy_financials/data/2020Q3_cf/FORM_C_DISCLOSURE.tsv\n",
      "/Users/derek/Documents/Github_Repos/graphy_financials/data/2019Q4_cf/FORM_C_DISCLOSURE.tsv\n",
      "/Users/derek/Documents/Github_Repos/graphy_financials/data/2021Q2_cf/FORM_C_DISCLOSURE.tsv\n",
      "/Users/derek/Documents/Github_Repos/graphy_financials/data/2018Q1_cf/FORM_C_DISCLOSURE.tsv\n",
      "/Users/derek/Documents/Github_Repos/graphy_financials/data/2017Q2_cf/FORM_C_DISCLOSURE.tsv\n",
      "/Users/derek/Documents/Github_Repos/graphy_financials/data/2016Q3_cf/FORM_C_DISCLOSURE.tsv\n",
      "/Users/derek/Documents/Github_Repos/graphy_financials/data/2022Q1_cf/FORM_C_DISCLOSURE.tsv\n",
      "/Users/derek/Documents/Github_Repos/graphy_financials/data/2023Q1_cf/FORM_C_DISCLOSURE.tsv\n",
      "/Users/derek/Documents/Github_Repos/graphy_financials/data/2017Q3_cf/FORM_C_DISCLOSURE.tsv\n",
      "/Users/derek/Documents/Github_Repos/graphy_financials/data/2019Q1_cf/FORM_C_DISCLOSURE.tsv\n",
      "/Users/derek/Documents/Github_Repos/graphy_financials/data/2016Q2_cf/FORM_C_DISCLOSURE.tsv\n",
      "/Users/derek/Documents/Github_Repos/graphy_financials/data/2020Q2_cf/FORM_C_DISCLOSURE.tsv\n",
      "/Users/derek/Documents/Github_Repos/graphy_financials/data/2018Q4_cf/FORM_C_DISCLOSURE.tsv\n",
      "/Users/derek/Documents/Github_Repos/graphy_financials/data/2022Q4_cf/FORM_C_DISCLOSURE.tsv\n",
      "/Users/derek/Documents/Github_Repos/graphy_financials/data/2021Q3_cf/FORM_C_DISCLOSURE.tsv\n",
      "/Users/derek/Documents/Github_Repos/graphy_financials/data/2023Q2_cf/FORM_C_DISCLOSURE.tsv\n",
      "/Users/derek/Documents/Github_Repos/graphy_financials/data/2018Q3_cf/FORM_C_DISCLOSURE.tsv\n",
      "/Users/derek/Documents/Github_Repos/graphy_financials/data/2019Q2_cf/FORM_C_DISCLOSURE.tsv\n",
      "/Users/derek/Documents/Github_Repos/graphy_financials/data/2021Q4_cf/FORM_C_DISCLOSURE.tsv\n",
      "/Users/derek/Documents/Github_Repos/graphy_financials/data/2022Q3_cf/FORM_C_DISCLOSURE.tsv\n",
      "/Users/derek/Documents/Github_Repos/graphy_financials/data/2020Q1_cf/FORM_C_DISCLOSURE.tsv\n",
      "/Users/derek/Documents/Github_Repos/graphy_financials/data/2017Q4_cf/FORM_C_DISCLOSURE.tsv\n",
      "/Users/derek/Documents/Github_Repos/graphy_financials/data/2016Q4_cf/FORM_C_DISCLOSURE.tsv\n",
      "/Users/derek/Documents/Github_Repos/graphy_financials/data/2021Q1_cf/FORM_C_DISCLOSURE.tsv\n",
      "/Users/derek/Documents/Github_Repos/graphy_financials/data/2020Q4_cf/FORM_C_DISCLOSURE.tsv\n",
      "/Users/derek/Documents/Github_Repos/graphy_financials/data/2018Q2_cf/FORM_C_DISCLOSURE.tsv\n",
      "/Users/derek/Documents/Github_Repos/graphy_financials/data/2017Q1_cf/FORM_C_DISCLOSURE.tsv\n",
      "/Users/derek/Documents/Github_Repos/graphy_financials/data/2019Q3_cf/FORM_C_DISCLOSURE.tsv\n",
      "/Users/derek/Documents/Github_Repos/graphy_financials/data/2022Q2_cf/FORM_C_DISCLOSURE.tsv\n"
     ]
    }
   ],
   "source": [
    "data_directory = '/Users/derek/Documents/Github_Repos/graphy_financials/data'\n",
    "\n",
    "for folder_name in os.listdir(data_directory):\n",
    "    folder_path = os.path.join(data_directory, folder_name)\n",
    "    \n",
    "    if os.path.isdir(folder_path):\n",
    "        for root, dirs, files in os.walk(folder_path):\n",
    "            for file_name in files:\n",
    "                if file_name.endswith('DISCLOSURE.tsv'):\n",
    "                    tsv_path = os.path.join(root, file_name)\n",
    "                    \n",
    "                    print(tsv_path)"
   ]
  },
  {
   "cell_type": "code",
   "execution_count": null,
   "metadata": {},
   "outputs": [],
   "source": []
  }
 ],
 "metadata": {
  "kernelspec": {
   "display_name": "env",
   "language": "python",
   "name": "python3"
  },
  "language_info": {
   "codemirror_mode": {
    "name": "ipython",
    "version": 3
   },
   "file_extension": ".py",
   "mimetype": "text/x-python",
   "name": "python",
   "nbconvert_exporter": "python",
   "pygments_lexer": "ipython3",
   "version": "3.9.13"
  },
  "orig_nbformat": 4
 },
 "nbformat": 4,
 "nbformat_minor": 2
}
