{
 "cells": [
  {
   "cell_type": "code",
   "execution_count": 1,
   "metadata": {},
   "outputs": [],
   "source": [
    "import os\n",
    "import pandas as pd"
   ]
  },
  {
   "cell_type": "code",
   "execution_count": 3,
   "metadata": {},
   "outputs": [],
   "source": [
    "\n",
    "data_directory = '/Users/derek/Documents/Github_Repos/graphy_financials/data'\n",
    "\n",
    "tsv_path_to_process = []\n",
    "\n",
    "for folder_name in os.listdir(data_directory):\n",
    "    folder_path = os.path.join(data_directory, folder_name)\n",
    "    \n",
    "    if os.path.isdir(folder_path):\n",
    "        for root, dirs, files in os.walk(folder_path):\n",
    "            for file_name in files:\n",
    "                if file_name.endswith('DISCLOSURE.tsv'):\n",
    "                    tsv_path = os.path.join(root, file_name)\n",
    "                    \n",
    "                    tsv_path_to_process.append(tsv_path)\n",
    "                    "
   ]
  },
  {
   "cell_type": "code",
   "execution_count": 95,
   "metadata": {},
   "outputs": [
    {
     "ename": "TypeError",
     "evalue": "info() got an unexpected keyword argument 'columns'",
     "output_type": "error",
     "traceback": [
      "\u001b[0;31m---------------------------------------------------------------------------\u001b[0m",
      "\u001b[0;31mTypeError\u001b[0m                                 Traceback (most recent call last)",
      "Cell \u001b[0;32mIn[95], line 51\u001b[0m\n\u001b[1;32m     12\u001b[0m \u001b[39m# combined_disclosure_df[['ACCESSION_NUMBER','COMPENSATIONAMOUNT']]\u001b[39;00m\n\u001b[1;32m     13\u001b[0m \u001b[39m# combined_disclosure_df['ACCESSION_NUMBER']\u001b[39;00m\n\u001b[1;32m     15\u001b[0m combined_disclosure_df\u001b[39m.\u001b[39mrename(columns \u001b[39m=\u001b[39m {\n\u001b[1;32m     16\u001b[0m     \u001b[39m'\u001b[39m\u001b[39mACCESSION_NUMBER\u001b[39m\u001b[39m'\u001b[39m: \u001b[39m'\u001b[39m\u001b[39maccession_number\u001b[39m\u001b[39m'\u001b[39m,\n\u001b[1;32m     17\u001b[0m     \u001b[39m'\u001b[39m\u001b[39mCOMPENSATIONAMOUNT\u001b[39m\u001b[39m'\u001b[39m: \u001b[39m'\u001b[39m\u001b[39mcompensation_amount_description\u001b[39m\u001b[39m'\u001b[39m, \n\u001b[0;32m   (...)\u001b[0m\n\u001b[1;32m     48\u001b[0m     \u001b[39m'\u001b[39m\u001b[39mNETINCOMEPRIORFISCALYEAR\u001b[39m\u001b[39m'\u001b[39m: \u001b[39m'\u001b[39m\u001b[39mnet_income_prior_fiscal_year\u001b[39m\u001b[39m'\u001b[39m\n\u001b[1;32m     49\u001b[0m }, inplace \u001b[39m=\u001b[39m \u001b[39mTrue\u001b[39;00m )\n\u001b[0;32m---> 51\u001b[0m combined_disclosure_df\u001b[39m.\u001b[39;49minfo(verbose\u001b[39m=\u001b[39;49m\u001b[39mTrue\u001b[39;49;00m, max_cols\u001b[39m=\u001b[39;49m\u001b[39mNone\u001b[39;49;00m, columns\u001b[39m=\u001b[39;49m[\u001b[39m0\u001b[39;49m])\n",
      "\u001b[0;31mTypeError\u001b[0m: info() got an unexpected keyword argument 'columns'"
     ]
    }
   ],
   "source": [
    "# tsv_2023 = [x for x in tsv_path_to_process if \"2023\" in x]\n",
    "\n",
    "disclosure_dataframes = []\n",
    "\n",
    "for tsv_file in tsv_path_to_process:\n",
    "    df = pd.read_csv(tsv_file, sep=\"\\t\")\n",
    "    disclosure_dataframes.append(df)\n",
    "\n",
    "combined_disclosure_df = pd.concat(disclosure_dataframes, ignore_index=True)\n",
    "\n",
    "\n",
    "# combined_disclosure_df[['ACCESSION_NUMBER','COMPENSATIONAMOUNT']]\n",
    "# combined_disclosure_df['ACCESSION_NUMBER']\n",
    "\n",
    "combined_disclosure_df.rename(columns = {\n",
    "    'ACCESSION_NUMBER': 'accession_number',\n",
    "    'COMPENSATIONAMOUNT': 'compensation_amount_description', \n",
    "    'FINANCIALINTEREST': 'financial_interest',\n",
    "    'SECURITYOFFEREDTYPE': 'security_offered_type',\n",
    "    'SECURITYOFFEREDOTHERDESC': 'security_offered_other_desc',\n",
    "    'NOOFSECURITYOFFERED': 'no_of_security_offered',\n",
    "    'PRICE': 'price',\n",
    "    'PRICEDETERMINATIONMETHOD': 'price_determination_method', \n",
    "    'OFFERINGAMOUNT': 'offering_amount',\n",
    "    'OVERSUBSCRIPTIONACCEPTED': 'oversubscription_accepted',\n",
    "    'OVERSUBSCRIPTIONALLOCATIONTYPE': 'oversubscription_allocation_type',\n",
    "    'DESCOVERSUBSCRIPTION': 'desc_oversubscription',\n",
    "    'MAXIMUMOFFERINGAMOUNT': 'maximum_offering_amount',\n",
    "    'DEADLINEDATE': 'deadline_date',\n",
    "    'CURRENTEMPLOYEES': 'current_employees',\n",
    "    'TOTALASSETMOSTRECENTFISCALYEAR': 'total_assets_most_recent_fiscal_year',\n",
    "    'TOTALASSETPRIORFISCALYEAR': 'total_assets_prior_fiscal_year',\n",
    "    'CASHEQUIMOSTRECENTFISCALYEAR': 'cash_equity_most_recent_fiscal_year',\n",
    "    'CASHEQUIPRIORFISCALYEAR': 'cash_equity_prior_fiscal_year',\n",
    "    'ACTRECEIVEDRECENTFISCALYEAR': 'act_received_recent_fiscal_year', \n",
    "    'ACTRECEIVEDPRIORFISCALYEAR': 'act_received_prior_fiscal_year',\n",
    "    'SHORTTERMDEBTMRECENTFISCALYEAR': 'short_term_debt_recent_fiscal_year',\n",
    "    'SHORTTERMDEBTPRIORFISCALYEAR': 'short_term_debt_prior_fiscal_year',\n",
    "    'LONGTERMDEBTRECENTFISCALYEAR': 'long_term_debt_recent_fiscal_year',\n",
    "    'LONGTERMDEBTPRIORFISCALYEAR': 'long_term_debt_prior_fiscal_year',\n",
    "    'REVENUEMOSTRECENTFISCALYEAR': 'revenue_most_recent_fiscal_year',\n",
    "    'REVENUEPRIORFISCALYEAR': 'revenue_prior_fiscal_year', \n",
    "    'COSTGOODSSOLDRECENTFISCALYEAR': 'cost_goods_sold_recent_fiscal_year',\n",
    "    'COSTGOODSSOLDPRIORFISCALYEAR': 'cost_goods_sold_prior_fiscal_year',\n",
    "    'TAXPAIDMOSTRECENTFISCALYEAR': 'tax_paid_most_recent_fiscal_year',\n",
    "    'TAXPAIDPRIORFISCALYEAR': 'tax_paid_prior_fiscal_year',\n",
    "    'NETINCOMEMOSTRECENTFISCALYEAR': 'net_income_most_recent_fiscal_year',\n",
    "    'NETINCOMEPRIORFISCALYEAR': 'net_income_prior_fiscal_year'\n",
    "}, inplace = True )\n",
    "\n",
    "combined_disclosure_df.info(verbose=True, max_cols=None)"
   ]
  },
  {
   "cell_type": "markdown",
   "metadata": {},
   "source": []
  },
  {
   "cell_type": "code",
   "execution_count": 89,
   "metadata": {},
   "outputs": [],
   "source": [
    "# change data type\n",
    "combined_disclosure_df = combined_disclosure_df.astype({\n",
    "    'accession_number': 'object',\n",
    "    'compensation_amount_description': 'object',\n",
    "    'financial_interest': 'object',\n",
    "    'security_offered_type': 'object',\n",
    "    'security_offered_other_desc': 'object',\n",
    "    'no_of_security_offered': 'float',\n",
    "    'price': 'float',\n",
    "    'price_determination_method': 'object',\n",
    "    'offering_amount': 'float',\n",
    "    'oversubscription_accepted': 'object',\n",
    "    'oversubscription_allocation_type': 'string',\n",
    "    'desc_oversubscription': 'string',\n",
    "    'maximum_offering_amount': 'string'\n",
    "})\n",
    "\n",
    "# combined_disclosure_df['accession_number'][1]\n",
    "\n",
    "# combined_disclosure_df.info()\n",
    "combined_disclosure_df['oversubscription_accepted'].to_csv('testing_oversub.csv')"
   ]
  },
  {
   "cell_type": "code",
   "execution_count": null,
   "metadata": {},
   "outputs": [],
   "source": []
  }
 ],
 "metadata": {
  "kernelspec": {
   "display_name": "env",
   "language": "python",
   "name": "python3"
  },
  "language_info": {
   "codemirror_mode": {
    "name": "ipython",
    "version": 3
   },
   "file_extension": ".py",
   "mimetype": "text/x-python",
   "name": "python",
   "nbconvert_exporter": "python",
   "pygments_lexer": "ipython3",
   "version": "3.9.13"
  },
  "orig_nbformat": 4
 },
 "nbformat": 4,
 "nbformat_minor": 2
}
