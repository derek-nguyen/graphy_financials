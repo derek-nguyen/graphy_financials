{
 "cells": [
  {
   "cell_type": "code",
   "execution_count": 19,
   "metadata": {},
   "outputs": [],
   "source": [
    "import os\n",
    "import pandas as pd"
   ]
  },
  {
   "cell_type": "code",
   "execution_count": 71,
   "metadata": {},
   "outputs": [],
   "source": [
    "\n",
    "data_directory = '/Users/derek/Documents/Github_Repos/graphy_financials/data'\n",
    "\n",
    "tsv_path_to_process = []\n",
    "\n",
    "for folder_name in os.listdir(data_directory):\n",
    "    folder_path = os.path.join(data_directory, folder_name)\n",
    "    \n",
    "    if os.path.isdir(folder_path):\n",
    "        for root, dirs, files in os.walk(folder_path):\n",
    "            for file_name in files:\n",
    "                if file_name.endswith('DISCLOSURE.tsv'):\n",
    "                    tsv_path = os.path.join(root, file_name)\n",
    "                    \n",
    "                    tsv_path_to_process.append(tsv_path)\n",
    "                    "
   ]
  },
  {
   "cell_type": "code",
   "execution_count": 81,
   "metadata": {},
   "outputs": [],
   "source": [
    "# tsv_2023 = [x for x in tsv_path_to_process if \"2023\" in x]\n",
    "\n",
    "disclosure_dataframes = []\n",
    "\n",
    "for tsv_file in tsv_path_to_process:\n",
    "    df = pd.read_csv(tsv_file, sep=\"\\t\")\n",
    "    disclosure_dataframes.append(df)\n",
    "\n",
    "combined_disclosure_df = pd.concat(disclosure_dataframes, ignore_index=True)\n",
    "\n",
    "combined_disclosure_df.to_csv('/Users/derek/Downloads/test.csv')\n",
    "\n"
   ]
  },
  {
   "cell_type": "code",
   "execution_count": 75,
   "metadata": {},
   "outputs": [
    {
     "data": {
      "text/plain": [
       "29"
      ]
     },
     "execution_count": 75,
     "metadata": {},
     "output_type": "execute_result"
    }
   ],
   "source": []
  },
  {
   "cell_type": "code",
   "execution_count": null,
   "metadata": {},
   "outputs": [],
   "source": []
  }
 ],
 "metadata": {
  "kernelspec": {
   "display_name": "env",
   "language": "python",
   "name": "python3"
  },
  "language_info": {
   "codemirror_mode": {
    "name": "ipython",
    "version": 3
   },
   "file_extension": ".py",
   "mimetype": "text/x-python",
   "name": "python",
   "nbconvert_exporter": "python",
   "pygments_lexer": "ipython3",
   "version": "3.9.13"
  },
  "orig_nbformat": 4
 },
 "nbformat": 4,
 "nbformat_minor": 2
}
